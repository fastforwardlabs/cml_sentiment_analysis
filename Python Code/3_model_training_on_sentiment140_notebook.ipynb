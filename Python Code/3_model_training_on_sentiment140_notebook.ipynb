{
 "cells": [
  {
   "cell_type": "markdown",
   "metadata": {},
   "source": [
    "# Sentiment Analysis"
   ]
  },
  {
   "cell_type": "markdown",
   "metadata": {},
   "source": [
    "This notebook describes the steps for building a sentiment analysis model. This model will read the Sentiment140 Twitter data, and learn what <b>positive</b> and <b>negative</b> sentiments look like. The model will perform a binary classification on the sentences and will classify them as expressing either positive or negative sentiment. It will then perform the same classification for a new, unseend statement.\n",
    "\n",
    "The following work will look fairly standard to anyone having trained machine learning models using python Jupyter notebooks. The CML platform provides a fully capable Jupyter notebook environment that data scientists know and love.\n",
    "\n",
    "In this process, you will learn how to train a Neural Network model using Tensorflow and Keras, for performing sentiment analysis on text data, which is one of the most common use cases in Natural Language Processing.\n",
    "\n",
    "We will use the [Sentiment140](http://help.sentiment140.com/home) data, compiled by the Stanford team.\n",
    "\n",
    "These steps can also be found on the three Python files in this project, namely, <i>01_read_data.py</i>, <i>02_pre-processing_and_model_training.py</i> and <i>03_sentiment_prediction.py</i>."
   ]
  },
  {
   "cell_type": "markdown",
   "metadata": {},
   "source": [
    "## Install and Import Tensorflow"
   ]
  },
  {
   "cell_type": "markdown",
   "metadata": {},
   "source": [
    "Before importing the following packages, ensure they are installed properly. If not, install them first using either a <i>requirements.txt</i> file, or directly using <b>pip</b>."
   ]
  },
  {
   "cell_type": "code",
   "execution_count": 1,
   "metadata": {},
   "outputs": [],
   "source": [
    "#!pip3 install --upgrade pip\n",
    "#!pip --version\n",
    "#!pip3 install tensorflow"
   ]
  },
  {
   "cell_type": "code",
   "execution_count": 2,
   "metadata": {},
   "outputs": [
    {
     "name": "stdout",
     "output_type": "stream",
     "text": [
      "2.2.0\n"
     ]
    }
   ],
   "source": [
    "import tensorflow as tf\n",
    "print(tf.__version__)"
   ]
  },
  {
   "cell_type": "code",
   "execution_count": 3,
   "metadata": {},
   "outputs": [],
   "source": [
    "import csv\n",
    "import json\n",
    "import random\n",
    "import numpy as np\n",
    "\n",
    "from tensorflow.keras.preprocessing.text import Tokenizer\n",
    "from tensorflow.keras.preprocessing.sequence import pad_sequences\n",
    "from tensorflow.keras.layers import Embedding, LSTM, Dense, Dropout, Bidirectional\n",
    "from tensorflow.keras.utils import to_categorical\n",
    "from tensorflow.keras import regularizers"
   ]
  },
  {
   "cell_type": "markdown",
   "metadata": {},
   "source": [
    "## Download data"
   ]
  },
  {
   "cell_type": "markdown",
   "metadata": {},
   "source": [
    "This section shows the following:\n",
    "\n",
    "1. Download Sentiment140 training data from the Stanford url\n",
    "\n",
    "2. Extract the data files\n",
    "\n",
    "3. Remove the LATIN1 encoding, and ensure only the UTF-8 encoded data is being used. This is done to avoid problems while using a Python CSV Reader."
   ]
  },
  {
   "cell_type": "code",
   "execution_count": 3,
   "metadata": {},
   "outputs": [
    {
     "name": "stdout",
     "output_type": "stream",
     "text": [
      "--2020-09-15 09:35:05--  http://cs.stanford.edu/people/alecmgo/trainingandtestdata.zip\n",
      "Resolving cs.stanford.edu (cs.stanford.edu)... 171.64.64.64\n",
      "Connecting to cs.stanford.edu (cs.stanford.edu)|171.64.64.64|:80... connected.\n",
      "HTTP request sent, awaiting response... 301 Moved Permanently\n",
      "Location: https://cs.stanford.edu/people/alecmgo/trainingandtestdata.zip [following]\n",
      "--2020-09-15 09:35:06--  https://cs.stanford.edu/people/alecmgo/trainingandtestdata.zip\n",
      "Connecting to cs.stanford.edu (cs.stanford.edu)|171.64.64.64|:443... connected.\n",
      "HTTP request sent, awaiting response... 200 OK\n",
      "Length: 81363704 (78M) [application/zip]\n",
      "Saving to: ‘trainingandtestdata.zip’\n",
      "\n",
      "trainingandtestdata 100%[===================>]  77.59M  1.65MB/s    in 9.9s    \n",
      "\n",
      "2020-09-15 09:35:16 (7.85 MB/s) - ‘trainingandtestdata.zip’ saved [81363704/81363704]\n",
      "\n"
     ]
    }
   ],
   "source": [
    "!wget http://cs.stanford.edu/people/alecmgo/trainingandtestdata.zip\n",
    "# Move the file to the \"data\" folder and rename it to 'sentiment140_training_and_test_data.zip'"
   ]
  },
  {
   "cell_type": "code",
   "execution_count": 4,
   "metadata": {},
   "outputs": [],
   "source": [
    "##Unzip\n",
    "import zipfile\n",
    "with zipfile.ZipFile(\"temp_data/sentiment140_training_and_test_data.zip\",\"r\") as zip_ref:\n",
    "    zip_ref.extractall(\"temp_data/sentiment140_unzipped\")"
   ]
  },
  {
   "cell_type": "code",
   "execution_count": 5,
   "metadata": {},
   "outputs": [],
   "source": [
    "##Remove the LATIN1 encoding\n",
    "!iconv -f LATIN1 -t UTF8 data/sentiment140_unzipped/training.1600000.processed.noemoticon.csv -o data/sentiment140_cleaned.csv\n"
   ]
  },
  {
   "cell_type": "markdown",
   "metadata": {},
   "source": [
    "## Data Exploration"
   ]
  },
  {
   "cell_type": "markdown",
   "metadata": {},
   "source": [
    "The training dataset contains 1600000 samples, where each row contains the following fields:\n",
    "\n",
    "0 - the polarity of the tweet (0 = negative, 2 = neutral, 4 = positive)\n",
    "\n",
    "1 - the id of the tweet\n",
    "\n",
    "2 - the date of the tweet\n",
    "\n",
    "3 - the quer\n",
    "\n",
    "4 - the user that tweeted\n",
    "\n",
    "5 - the text of the tweet\n",
    "\n",
    "Going forward, we would only require the text and the label for every tweet. We can drop the rest of the fields for our model building process. Before that, it is important to understand if the dataset is balanced or not. To do this, we'll count the number for positive and negative labels. If the two numbers have a huge difference, it is important to balance the data, in order to avoid <b>bias</b> in the training."
   ]
  },
  {
   "cell_type": "code",
   "execution_count": 8,
   "metadata": {},
   "outputs": [
    {
     "name": "stdout",
     "output_type": "stream",
     "text": [
      "Positive : 800000\n",
      "Negative : 800000\n",
      "Neutral : 0\n"
     ]
    }
   ],
   "source": [
    "count_positive = 0\n",
    "count_neutral = 0\n",
    "count_negative = 0\n",
    "\n",
    "with open(\"../temp_data/sentiment140_unzipped/clean_data.csv\") as csvfile:\n",
    "    reader = csv.reader(csvfile, delimiter=',')\n",
    "    for row in reader:\n",
    "        label_only=row[0]\n",
    "        if label_only=='0':\n",
    "            count_negative = count_negative + 1\n",
    "        elif label_only=='2':\n",
    "            count_neutral = count_neutral + 1\n",
    "        else:\n",
    "            count_positive = count_positive + 1\n",
    "\n",
    "print(\"Positive : \" + str(count_positive))\n",
    "print(\"Negative : \" + str(count_negative))\n",
    "print(\"Neutral : \" + str(count_neutral))"
   ]
  },
  {
   "cell_type": "markdown",
   "metadata": {},
   "source": [
    "In this case, the dataset is perfectly balanced, as we have equal number of positive and negative tweets. Also, do note that we haven't encountered a single tweet with a <i>Neutral</i> sentiment. So, let's convert the label field entries from 0 and 4 to 0 and 1 respectively, for Negative and Positive sentiments. Since the data is structured for a <b>binary classification</b> problem, we will train our model for a 0 or 1 sentiment prediction, thereby elimination the risk of the model interpreting this as a <b>multi class classification</b> problem."
   ]
  },
  {
   "cell_type": "code",
   "execution_count": 9,
   "metadata": {},
   "outputs": [],
   "source": [
    "num_sentences = 0\n",
    "corpus = []\n",
    "\n",
    "with open(\"../temp_data/sentiment140_unzipped/clean_data.csv\") as csvfile:\n",
    "    reader = csv.reader(csvfile, delimiter=',')\n",
    "    for row in reader:\n",
    "        text_and_label=[]\n",
    "        text_and_label.append(row[5])\n",
    "        label_only=row[0]\n",
    "        if label_only=='0':\n",
    "            text_and_label.append(0)\n",
    "        else:\n",
    "            text_and_label.append(1)\n",
    "        num_sentences = num_sentences + 1\n",
    "        corpus.append(text_and_label)"
   ]
  },
  {
   "cell_type": "markdown",
   "metadata": {},
   "source": [
    "We now have a <i>corpus</i>, which is a list of lists. Here, each list, or each record is a combination of the tweet text and the associated training label (0 or 1). Here's an example of one entry from the corpus:"
   ]
  },
  {
   "cell_type": "code",
   "execution_count": 10,
   "metadata": {},
   "outputs": [
    {
     "name": "stdout",
     "output_type": "stream",
     "text": [
      "1600000\n",
      "1600000\n",
      "[\"@alydesigns i was out most of the day so didn't get much done \", 0]\n"
     ]
    }
   ],
   "source": [
    "print(num_sentences)\n",
    "print(len(corpus))\n",
    "print(corpus[20])"
   ]
  },
  {
   "cell_type": "markdown",
   "metadata": {},
   "source": [
    "Ensure there are no labels other than 0 and 1 in the corpus:"
   ]
  },
  {
   "cell_type": "code",
   "execution_count": 11,
   "metadata": {},
   "outputs": [
    {
     "data": {
      "text/plain": [
       "{0, 1}"
      ]
     },
     "execution_count": 11,
     "metadata": {},
     "output_type": "execute_result"
    }
   ],
   "source": [
    "all_labels = [item[1] for item in corpus]\n",
    "unique_labels = set(all_labels)\n",
    "unique_labels"
   ]
  },
  {
   "cell_type": "markdown",
   "metadata": {},
   "source": [
    "## Data Preprocessing"
   ]
  },
  {
   "cell_type": "markdown",
   "metadata": {},
   "source": [
    "### Tokenization, Padding and Train-test split"
   ]
  },
  {
   "cell_type": "markdown",
   "metadata": {},
   "source": [
    "This step is the pre-processing phase where we perform the <b>Tokenization</b>, <b>Padding</b> and then create the <b>Embedding</b> matrix. For this particular example, we're limiting the maximum length of the tweets to 16. Also, define all the parameters we'll be using in the data preparation process."
   ]
  },
  {
   "cell_type": "code",
   "execution_count": 12,
   "metadata": {},
   "outputs": [],
   "source": [
    "embedding_dim = 100\n",
    "max_length = 16\n",
    "trunc_type='post'\n",
    "padding_type='post'\n",
    "oov_tok = \"<OOV>\"\n",
    "training_size=1600000\n",
    "test_portion=.1"
   ]
  },
  {
   "cell_type": "markdown",
   "metadata": {},
   "source": [
    "In this scenario, we’re first splitting each sentence into individual words, and assigning a unique integer to every word. This process is called Tokenization. Once you have a word index like this, it’s easier to pick the embedding vector, for a specified integer. This adds more semantic meaning to our training data. We also do a couple of things like, defining a fixed maximum length for all sentences, and then “padding” every sentence with a ‘0’, to align with the maximum length decided. We’ll then split our data between <b>training</b> and <b>validation</b> sets."
   ]
  },
  {
   "cell_type": "code",
   "execution_count": 13,
   "metadata": {},
   "outputs": [],
   "source": [
    "all_sentences=[]\n",
    "all_labels=[]\n",
    "random.shuffle(corpus)\n",
    "for x in range(training_size):\n",
    "    all_sentences.append(corpus[x][0])\n",
    "    all_labels.append(corpus[x][1])\n",
    "\n",
    "\n",
    "tokenizer = Tokenizer()\n",
    "tokenizer.fit_on_texts(all_sentences)\n",
    "\n",
    "word_index = tokenizer.word_index\n",
    "vocab_size=len(word_index)\n",
    "\n",
    "sent_sequences = tokenizer.texts_to_sequences(all_sentences)\n",
    "padded_sent = pad_sequences(sent_sequences, maxlen=max_length, padding=padding_type, truncating=trunc_type)\n",
    "\n",
    "split = int(test_portion * training_size)\n",
    "\n",
    "test_sequences = padded_sent[0:split]\n",
    "training_sequences = padded_sent[split:training_size]\n",
    "test_labels = all_labels[0:split]\n",
    "training_labels = all_labels[split:training_size]"
   ]
  },
  {
   "cell_type": "code",
   "execution_count": 14,
   "metadata": {},
   "outputs": [
    {
     "name": "stdout",
     "output_type": "stream",
     "text": [
      "<class 'numpy.ndarray'>\n",
      "<class 'list'>\n"
     ]
    }
   ],
   "source": [
    "print(type(training_sequences))\n",
    "print(type(training_labels))"
   ]
  },
  {
   "cell_type": "code",
   "execution_count": 15,
   "metadata": {},
   "outputs": [
    {
     "name": "stdout",
     "output_type": "stream",
     "text": [
      "(1440000, 16)\n",
      "1440000\n",
      "(160000, 16)\n",
      "160000\n"
     ]
    }
   ],
   "source": [
    "print(training_sequences.shape)\n",
    "print(len(training_labels))\n",
    "print(test_sequences.shape)\n",
    "print(len(test_labels))"
   ]
  },
  {
   "cell_type": "markdown",
   "metadata": {},
   "source": [
    "The final training and validation set sizes are 1440000 and 160000 respectively."
   ]
  },
  {
   "cell_type": "markdown",
   "metadata": {},
   "source": [
    "### GloVe Embeddings"
   ]
  },
  {
   "cell_type": "markdown",
   "metadata": {},
   "source": [
    "For building the word embeddings, we'll use the pre-trained embeddings from [GloVe](https://nlp.stanford.edu/projects/glove/). GloVe is an <i>unsupervised</i> learning algorithm, designed by the Stanford NLP team. You can obtain vector representations for words in your dataset. We're using the 100 dimensional vectors, as defined earlier."
   ]
  },
  {
   "cell_type": "code",
   "execution_count": 16,
   "metadata": {},
   "outputs": [
    {
     "name": "stdout",
     "output_type": "stream",
     "text": [
      "--2020-09-15 09:39:32--  http://nlp.stanford.edu/data/glove.6B.zip\n",
      "Resolving nlp.stanford.edu (nlp.stanford.edu)... 171.64.67.140\n",
      "Connecting to nlp.stanford.edu (nlp.stanford.edu)|171.64.67.140|:80... connected.\n",
      "HTTP request sent, awaiting response... 302 Found\n",
      "Location: https://nlp.stanford.edu/data/glove.6B.zip [following]\n",
      "--2020-09-15 09:39:32--  https://nlp.stanford.edu/data/glove.6B.zip\n",
      "Connecting to nlp.stanford.edu (nlp.stanford.edu)|171.64.67.140|:443... connected.\n",
      "HTTP request sent, awaiting response... 301 Moved Permanently\n",
      "Location: http://downloads.cs.stanford.edu/nlp/data/glove.6B.zip [following]\n",
      "--2020-09-15 09:39:32--  http://downloads.cs.stanford.edu/nlp/data/glove.6B.zip\n",
      "Resolving downloads.cs.stanford.edu (downloads.cs.stanford.edu)... 171.64.64.22\n",
      "Connecting to downloads.cs.stanford.edu (downloads.cs.stanford.edu)|171.64.64.22|:80... connected.\n",
      "HTTP request sent, awaiting response... 200 OK\n",
      "Length: 862182613 (822M) [application/zip]\n",
      "Saving to: ‘embeddings/glove.6B.zip’\n",
      "\n",
      "embeddings/glove.6B 100%[===================>] 822.24M  2.07MB/s    in 7m 6s   \n",
      "\n",
      "2020-09-15 09:46:38 (1.93 MB/s) - ‘embeddings/glove.6B.zip’ saved [862182613/862182613]\n",
      "\n"
     ]
    }
   ],
   "source": [
    "!wget http://nlp.stanford.edu/data/glove.6B.zip -O temp_data/embeddings/glove.6B.zip"
   ]
  },
  {
   "cell_type": "code",
   "execution_count": 17,
   "metadata": {},
   "outputs": [],
   "source": [
    "##Unzip\n",
    "import zipfile\n",
    "with zipfile.ZipFile(\"../temp_data/embeddings/glove.6B.zip\",\"r\") as zip_ref:\n",
    "    zip_ref.extractall(\"../temp_data/embeddings/glove_6B\")"
   ]
  },
  {
   "cell_type": "code",
   "execution_count": 18,
   "metadata": {},
   "outputs": [],
   "source": [
    "embedding_dict = {};\n",
    "with open('../temp_data/embeddings/glove_6B/glove.6B.100d.txt') as f:\n",
    "    for item in f:\n",
    "        embed_items = item.split();\n",
    "        word = embed_items[0];\n",
    "        word_vec = np.asarray(embed_items[1:], dtype='float32');\n",
    "        embedding_dict[word] = word_vec;\n",
    "\n",
    "embedding_matrix = np.zeros((vocab_size+1, embedding_dim));\n",
    "for word, i in word_index.items():\n",
    "    embedding_vector = embedding_dict.get(word);\n",
    "    if embedding_vector is not None:\n",
    "        embedding_matrix[i] = embedding_vector;"
   ]
  },
  {
   "cell_type": "code",
   "execution_count": 19,
   "metadata": {},
   "outputs": [
    {
     "data": {
      "text/plain": [
       "(690961, 100)"
      ]
     },
     "execution_count": 19,
     "metadata": {},
     "output_type": "execute_result"
    }
   ],
   "source": [
    "embedding_matrix.shape"
   ]
  },
  {
   "cell_type": "code",
   "execution_count": 20,
   "metadata": {},
   "outputs": [
    {
     "data": {
      "text/plain": [
       "690960"
      ]
     },
     "execution_count": 20,
     "metadata": {},
     "output_type": "execute_result"
    }
   ],
   "source": [
    "vocab_size"
   ]
  },
  {
   "cell_type": "code",
   "execution_count": 21,
   "metadata": {},
   "outputs": [
    {
     "name": "stdout",
     "output_type": "stream",
     "text": [
      "[('i', 1), ('to', 2), ('the', 3), ('a', 4), ('my', 5), ('and', 6), ('you', 7), ('is', 8), ('it', 9), ('in', 10), ('for', 11), ('of', 12), ('on', 13), ('me', 14), ('so', 15), ('have', 16), ('that', 17), ('but', 18), (\"i'm\", 19), ('just', 20)]\n"
     ]
    }
   ],
   "source": [
    "##Examples from the word index\n",
    "from itertools import islice\n",
    "\n",
    "def take(n, iterable):\n",
    "    return list(islice(iterable, n))\n",
    "\n",
    "n_items = take(20, word_index.items())\n",
    "print(n_items)"
   ]
  },
  {
   "cell_type": "markdown",
   "metadata": {},
   "source": [
    "## Build Model and Train"
   ]
  },
  {
   "cell_type": "markdown",
   "metadata": {},
   "source": [
    "In this phase, we build a Neural Network model using the Keras API from Tensorflow. This network has one <b>CNN</b> layer i.e. Convolutional Neural Network, and one <b>LSTM</b> (Long Short-Term Memory) layer. The LSTM is a special type of <i>Recurrent Neural Net</i>. LSTMs have a cell state for handling the long-term dependencies. With sequential data, such as lengthy sentences, it is required to carry some information from the beginning of the sentence to the end. And LSTMs have been found to work well with such data, because of its ability to carry the information well. We then train the model."
   ]
  },
  {
   "cell_type": "code",
   "execution_count": 22,
   "metadata": {},
   "outputs": [
    {
     "name": "stdout",
     "output_type": "stream",
     "text": [
      "Model: \"sequential\"\n",
      "_________________________________________________________________\n",
      "Layer (type)                 Output Shape              Param #   \n",
      "=================================================================\n",
      "embedding (Embedding)        (None, 16, 100)           69096100  \n",
      "_________________________________________________________________\n",
      "conv1d (Conv1D)              (None, 9, 32)             25632     \n",
      "_________________________________________________________________\n",
      "max_pooling1d (MaxPooling1D) (None, 4, 32)             0         \n",
      "_________________________________________________________________\n",
      "dropout (Dropout)            (None, 4, 32)             0         \n",
      "_________________________________________________________________\n",
      "lstm (LSTM)                  (None, 32)                8320      \n",
      "_________________________________________________________________\n",
      "flatten (Flatten)            (None, 32)                0         \n",
      "_________________________________________________________________\n",
      "dense (Dense)                (None, 16)                528       \n",
      "_________________________________________________________________\n",
      "dropout_1 (Dropout)          (None, 16)                0         \n",
      "_________________________________________________________________\n",
      "dense_1 (Dense)              (None, 1)                 17        \n",
      "=================================================================\n",
      "Total params: 69,130,597\n",
      "Trainable params: 34,497\n",
      "Non-trainable params: 69,096,100\n",
      "_________________________________________________________________\n"
     ]
    }
   ],
   "source": [
    "model = tf.keras.Sequential([\n",
    "    tf.keras.layers.Embedding(vocab_size+1, embedding_dim, input_length=max_length, weights=[embedding_matrix], trainable=False),\n",
    "    tf.keras.layers.Conv1D(32, 8, activation='relu'),\n",
    "    tf.keras.layers.MaxPooling1D(pool_size=2),\n",
    "    tf.keras.layers.Dropout(0.2),\n",
    "    tf.keras.layers.LSTM(32),\n",
    "    tf.keras.layers.Flatten(),\n",
    "    tf.keras.layers.Dense(16, activation = 'relu'),\n",
    "    tf.keras.layers.Dropout(0.4),\n",
    "    tf.keras.layers.Dense(1, activation='sigmoid')\n",
    "])\n",
    "model.compile(loss='binary_crossentropy',optimizer='adam',metrics=['acc'])\n",
    "model.summary()"
   ]
  },
  {
   "cell_type": "markdown",
   "metadata": {},
   "source": [
    "All these parameters and hyperparameters like optimization algorithms, learning rate, number of epochs, batch training, all of these are really experimental. You can work with whatever gives you good results. In our case, we managed to have an accuracy of 78% with 100 epochs and training in batches."
   ]
  },
  {
   "cell_type": "code",
   "execution_count": 23,
   "metadata": {},
   "outputs": [
    {
     "name": "stdout",
     "output_type": "stream",
     "text": [
      "Epoch 1/100\n",
      "90/90 - 6s - loss: 0.6216 - acc: 0.6530 - val_loss: 0.5605 - val_acc: 0.7086\n",
      "Epoch 2/100\n",
      "90/90 - 5s - loss: 0.5596 - acc: 0.7139 - val_loss: 0.5303 - val_acc: 0.7307\n",
      "Epoch 3/100\n",
      "90/90 - 5s - loss: 0.5413 - acc: 0.7281 - val_loss: 0.5182 - val_acc: 0.7400\n",
      "Epoch 4/100\n",
      "90/90 - 5s - loss: 0.5308 - acc: 0.7362 - val_loss: 0.5104 - val_acc: 0.7448\n",
      "Epoch 5/100\n",
      "90/90 - 5s - loss: 0.5242 - acc: 0.7411 - val_loss: 0.5057 - val_acc: 0.7483\n",
      "Epoch 6/100\n",
      "90/90 - 5s - loss: 0.5199 - acc: 0.7444 - val_loss: 0.5012 - val_acc: 0.7512\n",
      "Epoch 7/100\n",
      "90/90 - 5s - loss: 0.5163 - acc: 0.7474 - val_loss: 0.4983 - val_acc: 0.7532\n",
      "Epoch 8/100\n",
      "90/90 - 5s - loss: 0.5134 - acc: 0.7495 - val_loss: 0.4966 - val_acc: 0.7537\n",
      "Epoch 9/100\n",
      "90/90 - 5s - loss: 0.5114 - acc: 0.7509 - val_loss: 0.4949 - val_acc: 0.7550\n",
      "Epoch 10/100\n",
      "90/90 - 5s - loss: 0.5086 - acc: 0.7525 - val_loss: 0.4926 - val_acc: 0.7565\n",
      "Epoch 11/100\n",
      "90/90 - 5s - loss: 0.5073 - acc: 0.7535 - val_loss: 0.4913 - val_acc: 0.7568\n",
      "Epoch 12/100\n",
      "90/90 - 5s - loss: 0.5053 - acc: 0.7549 - val_loss: 0.4898 - val_acc: 0.7581\n",
      "Epoch 13/100\n",
      "90/90 - 5s - loss: 0.5043 - acc: 0.7558 - val_loss: 0.4892 - val_acc: 0.7588\n",
      "Epoch 14/100\n",
      "90/90 - 5s - loss: 0.5027 - acc: 0.7571 - val_loss: 0.4885 - val_acc: 0.7590\n",
      "Epoch 15/100\n",
      "90/90 - 5s - loss: 0.5016 - acc: 0.7577 - val_loss: 0.4874 - val_acc: 0.7607\n",
      "Epoch 16/100\n",
      "90/90 - 5s - loss: 0.5003 - acc: 0.7585 - val_loss: 0.4868 - val_acc: 0.7612\n",
      "Epoch 17/100\n",
      "90/90 - 5s - loss: 0.4997 - acc: 0.7585 - val_loss: 0.4855 - val_acc: 0.7615\n",
      "Epoch 18/100\n",
      "90/90 - 5s - loss: 0.4992 - acc: 0.7592 - val_loss: 0.4847 - val_acc: 0.7616\n",
      "Epoch 19/100\n",
      "90/90 - 5s - loss: 0.4978 - acc: 0.7603 - val_loss: 0.4843 - val_acc: 0.7620\n",
      "Epoch 20/100\n",
      "90/90 - 5s - loss: 0.4974 - acc: 0.7605 - val_loss: 0.4845 - val_acc: 0.7625\n",
      "Epoch 21/100\n",
      "90/90 - 5s - loss: 0.4966 - acc: 0.7609 - val_loss: 0.4829 - val_acc: 0.7634\n",
      "Epoch 22/100\n",
      "90/90 - 5s - loss: 0.4961 - acc: 0.7612 - val_loss: 0.4830 - val_acc: 0.7636\n",
      "Epoch 23/100\n",
      "90/90 - 5s - loss: 0.4956 - acc: 0.7617 - val_loss: 0.4831 - val_acc: 0.7630\n",
      "Epoch 24/100\n",
      "90/90 - 5s - loss: 0.4947 - acc: 0.7623 - val_loss: 0.4825 - val_acc: 0.7632\n",
      "Epoch 25/100\n",
      "90/90 - 5s - loss: 0.4945 - acc: 0.7624 - val_loss: 0.4829 - val_acc: 0.7632\n",
      "Epoch 26/100\n",
      "90/90 - 5s - loss: 0.4938 - acc: 0.7627 - val_loss: 0.4815 - val_acc: 0.7644\n",
      "Epoch 27/100\n",
      "90/90 - 5s - loss: 0.4933 - acc: 0.7632 - val_loss: 0.4818 - val_acc: 0.7641\n",
      "Epoch 28/100\n",
      "90/90 - 5s - loss: 0.4927 - acc: 0.7634 - val_loss: 0.4810 - val_acc: 0.7647\n",
      "Epoch 29/100\n",
      "90/90 - 5s - loss: 0.4928 - acc: 0.7636 - val_loss: 0.4827 - val_acc: 0.7631\n",
      "Epoch 30/100\n",
      "90/90 - 5s - loss: 0.4926 - acc: 0.7637 - val_loss: 0.4808 - val_acc: 0.7645\n",
      "Epoch 31/100\n",
      "90/90 - 5s - loss: 0.4918 - acc: 0.7642 - val_loss: 0.4797 - val_acc: 0.7651\n",
      "Epoch 32/100\n",
      "90/90 - 5s - loss: 0.4914 - acc: 0.7644 - val_loss: 0.4815 - val_acc: 0.7643\n",
      "Epoch 33/100\n",
      "90/90 - 5s - loss: 0.4914 - acc: 0.7644 - val_loss: 0.4799 - val_acc: 0.7653\n",
      "Epoch 34/100\n",
      "90/90 - 5s - loss: 0.4906 - acc: 0.7649 - val_loss: 0.4792 - val_acc: 0.7654\n",
      "Epoch 35/100\n",
      "90/90 - 5s - loss: 0.4904 - acc: 0.7653 - val_loss: 0.4788 - val_acc: 0.7662\n",
      "Epoch 36/100\n",
      "90/90 - 5s - loss: 0.4899 - acc: 0.7657 - val_loss: 0.4792 - val_acc: 0.7664\n",
      "Epoch 37/100\n",
      "90/90 - 5s - loss: 0.4898 - acc: 0.7654 - val_loss: 0.4793 - val_acc: 0.7662\n",
      "Epoch 38/100\n",
      "90/90 - 5s - loss: 0.4895 - acc: 0.7655 - val_loss: 0.4789 - val_acc: 0.7658\n",
      "Epoch 39/100\n",
      "90/90 - 5s - loss: 0.4890 - acc: 0.7659 - val_loss: 0.4784 - val_acc: 0.7660\n",
      "Epoch 40/100\n",
      "90/90 - 5s - loss: 0.4887 - acc: 0.7663 - val_loss: 0.4784 - val_acc: 0.7666\n",
      "Epoch 41/100\n",
      "90/90 - 5s - loss: 0.4887 - acc: 0.7664 - val_loss: 0.4784 - val_acc: 0.7662\n",
      "Epoch 42/100\n",
      "90/90 - 5s - loss: 0.4881 - acc: 0.7664 - val_loss: 0.4777 - val_acc: 0.7668\n",
      "Epoch 43/100\n",
      "90/90 - 5s - loss: 0.4879 - acc: 0.7666 - val_loss: 0.4791 - val_acc: 0.7660\n",
      "Epoch 44/100\n",
      "90/90 - 5s - loss: 0.4882 - acc: 0.7662 - val_loss: 0.4773 - val_acc: 0.7672\n",
      "Epoch 45/100\n",
      "90/90 - 5s - loss: 0.4876 - acc: 0.7671 - val_loss: 0.4771 - val_acc: 0.7673\n",
      "Epoch 46/100\n",
      "90/90 - 5s - loss: 0.4876 - acc: 0.7669 - val_loss: 0.4771 - val_acc: 0.7676\n",
      "Epoch 47/100\n",
      "90/90 - 5s - loss: 0.4875 - acc: 0.7671 - val_loss: 0.4766 - val_acc: 0.7668\n",
      "Epoch 48/100\n",
      "90/90 - 5s - loss: 0.4868 - acc: 0.7676 - val_loss: 0.4767 - val_acc: 0.7677\n",
      "Epoch 49/100\n",
      "90/90 - 5s - loss: 0.4870 - acc: 0.7673 - val_loss: 0.4797 - val_acc: 0.7648\n",
      "Epoch 50/100\n",
      "90/90 - 5s - loss: 0.4867 - acc: 0.7676 - val_loss: 0.4762 - val_acc: 0.7679\n",
      "Epoch 51/100\n",
      "90/90 - 5s - loss: 0.4868 - acc: 0.7676 - val_loss: 0.4762 - val_acc: 0.7675\n",
      "Epoch 52/100\n",
      "90/90 - 5s - loss: 0.4862 - acc: 0.7682 - val_loss: 0.4760 - val_acc: 0.7678\n",
      "Epoch 53/100\n",
      "90/90 - 5s - loss: 0.4865 - acc: 0.7678 - val_loss: 0.4763 - val_acc: 0.7676\n",
      "Epoch 54/100\n",
      "90/90 - 5s - loss: 0.4858 - acc: 0.7683 - val_loss: 0.4760 - val_acc: 0.7678\n",
      "Epoch 55/100\n",
      "90/90 - 5s - loss: 0.4854 - acc: 0.7683 - val_loss: 0.4776 - val_acc: 0.7669\n",
      "Epoch 56/100\n",
      "90/90 - 5s - loss: 0.4856 - acc: 0.7684 - val_loss: 0.4759 - val_acc: 0.7683\n",
      "Epoch 57/100\n",
      "90/90 - 5s - loss: 0.4853 - acc: 0.7683 - val_loss: 0.4754 - val_acc: 0.7688\n",
      "Epoch 58/100\n",
      "90/90 - 5s - loss: 0.4857 - acc: 0.7682 - val_loss: 0.4755 - val_acc: 0.7681\n",
      "Epoch 59/100\n",
      "90/90 - 5s - loss: 0.4850 - acc: 0.7684 - val_loss: 0.4763 - val_acc: 0.7681\n",
      "Epoch 60/100\n",
      "90/90 - 5s - loss: 0.4851 - acc: 0.7683 - val_loss: 0.4798 - val_acc: 0.7651\n",
      "Epoch 61/100\n",
      "90/90 - 5s - loss: 0.4852 - acc: 0.7686 - val_loss: 0.4756 - val_acc: 0.7686\n",
      "Epoch 62/100\n",
      "90/90 - 5s - loss: 0.4846 - acc: 0.7687 - val_loss: 0.4757 - val_acc: 0.7685\n",
      "Epoch 63/100\n",
      "90/90 - 5s - loss: 0.4842 - acc: 0.7689 - val_loss: 0.4755 - val_acc: 0.7688\n",
      "Epoch 64/100\n",
      "90/90 - 5s - loss: 0.4841 - acc: 0.7692 - val_loss: 0.4748 - val_acc: 0.7683\n",
      "Epoch 65/100\n",
      "90/90 - 5s - loss: 0.4841 - acc: 0.7689 - val_loss: 0.4765 - val_acc: 0.7677\n",
      "Epoch 66/100\n",
      "90/90 - 5s - loss: 0.4838 - acc: 0.7693 - val_loss: 0.4745 - val_acc: 0.7693\n",
      "Epoch 67/100\n",
      "90/90 - 5s - loss: 0.4839 - acc: 0.7691 - val_loss: 0.4758 - val_acc: 0.7690\n",
      "Epoch 68/100\n",
      "90/90 - 5s - loss: 0.4836 - acc: 0.7695 - val_loss: 0.4745 - val_acc: 0.7693\n",
      "Epoch 69/100\n",
      "90/90 - 5s - loss: 0.4836 - acc: 0.7698 - val_loss: 0.4761 - val_acc: 0.7676\n",
      "Epoch 70/100\n",
      "90/90 - 5s - loss: 0.4833 - acc: 0.7697 - val_loss: 0.4757 - val_acc: 0.7682\n",
      "Epoch 71/100\n",
      "90/90 - 5s - loss: 0.4831 - acc: 0.7695 - val_loss: 0.4758 - val_acc: 0.7682\n",
      "Epoch 72/100\n",
      "90/90 - 5s - loss: 0.4832 - acc: 0.7696 - val_loss: 0.4742 - val_acc: 0.7690\n",
      "Epoch 73/100\n",
      "90/90 - 5s - loss: 0.4829 - acc: 0.7704 - val_loss: 0.4738 - val_acc: 0.7692\n",
      "Epoch 74/100\n",
      "90/90 - 5s - loss: 0.4827 - acc: 0.7701 - val_loss: 0.4739 - val_acc: 0.7692\n",
      "Epoch 75/100\n",
      "90/90 - 5s - loss: 0.4825 - acc: 0.7700 - val_loss: 0.4756 - val_acc: 0.7683\n",
      "Epoch 76/100\n",
      "90/90 - 5s - loss: 0.4823 - acc: 0.7698 - val_loss: 0.4743 - val_acc: 0.7693\n",
      "Epoch 77/100\n",
      "90/90 - 5s - loss: 0.4815 - acc: 0.7703 - val_loss: 0.4741 - val_acc: 0.7692\n",
      "Epoch 78/100\n",
      "90/90 - 5s - loss: 0.4817 - acc: 0.7701 - val_loss: 0.4741 - val_acc: 0.7697\n",
      "Epoch 79/100\n",
      "90/90 - 5s - loss: 0.4815 - acc: 0.7704 - val_loss: 0.4736 - val_acc: 0.7704\n",
      "Epoch 80/100\n",
      "90/90 - 5s - loss: 0.4808 - acc: 0.7707 - val_loss: 0.4751 - val_acc: 0.7694\n",
      "Epoch 81/100\n",
      "90/90 - 5s - loss: 0.4814 - acc: 0.7704 - val_loss: 0.4741 - val_acc: 0.7702\n",
      "Epoch 82/100\n",
      "90/90 - 5s - loss: 0.4811 - acc: 0.7705 - val_loss: 0.4740 - val_acc: 0.7699\n",
      "Epoch 83/100\n",
      "90/90 - 5s - loss: 0.4808 - acc: 0.7707 - val_loss: 0.4746 - val_acc: 0.7687\n",
      "Epoch 84/100\n",
      "90/90 - 5s - loss: 0.4806 - acc: 0.7709 - val_loss: 0.4746 - val_acc: 0.7692\n",
      "Epoch 85/100\n",
      "90/90 - 5s - loss: 0.4806 - acc: 0.7713 - val_loss: 0.4748 - val_acc: 0.7690\n",
      "Epoch 86/100\n",
      "90/90 - 5s - loss: 0.4808 - acc: 0.7708 - val_loss: 0.4738 - val_acc: 0.7691\n",
      "Epoch 87/100\n",
      "90/90 - 5s - loss: 0.4803 - acc: 0.7712 - val_loss: 0.4751 - val_acc: 0.7685\n",
      "Epoch 88/100\n",
      "90/90 - 5s - loss: 0.4806 - acc: 0.7709 - val_loss: 0.4736 - val_acc: 0.7701\n",
      "Epoch 89/100\n",
      "90/90 - 5s - loss: 0.4801 - acc: 0.7712 - val_loss: 0.4738 - val_acc: 0.7702\n",
      "Epoch 90/100\n",
      "90/90 - 5s - loss: 0.4809 - acc: 0.7707 - val_loss: 0.4737 - val_acc: 0.7702\n",
      "Epoch 91/100\n",
      "90/90 - 5s - loss: 0.4803 - acc: 0.7711 - val_loss: 0.4741 - val_acc: 0.7708\n",
      "Epoch 92/100\n"
     ]
    },
    {
     "name": "stdout",
     "output_type": "stream",
     "text": [
      "90/90 - 5s - loss: 0.4799 - acc: 0.7710 - val_loss: 0.4734 - val_acc: 0.7701\n",
      "Epoch 93/100\n",
      "90/90 - 5s - loss: 0.4801 - acc: 0.7716 - val_loss: 0.4751 - val_acc: 0.7696\n",
      "Epoch 94/100\n",
      "90/90 - 5s - loss: 0.4800 - acc: 0.7713 - val_loss: 0.4746 - val_acc: 0.7691\n",
      "Epoch 95/100\n",
      "90/90 - 5s - loss: 0.4795 - acc: 0.7718 - val_loss: 0.4726 - val_acc: 0.7707\n",
      "Epoch 96/100\n",
      "90/90 - 5s - loss: 0.4794 - acc: 0.7715 - val_loss: 0.4738 - val_acc: 0.7700\n",
      "Epoch 97/100\n",
      "90/90 - 5s - loss: 0.4797 - acc: 0.7715 - val_loss: 0.4735 - val_acc: 0.7701\n",
      "Epoch 98/100\n",
      "90/90 - 5s - loss: 0.4794 - acc: 0.7714 - val_loss: 0.4734 - val_acc: 0.7699\n",
      "Epoch 99/100\n",
      "90/90 - 5s - loss: 0.4801 - acc: 0.7711 - val_loss: 0.4744 - val_acc: 0.7697\n",
      "Epoch 100/100\n",
      "90/90 - 5s - loss: 0.4793 - acc: 0.7716 - val_loss: 0.4736 - val_acc: 0.7702\n",
      "Training Complete!\n"
     ]
    }
   ],
   "source": [
    "num_epochs = 100\n",
    "batch_size = 16000\n",
    "history = model.fit(np.array(training_sequences), np.array(training_labels), batch_size=batch_size, epochs=num_epochs, validation_data=(np.array(test_sequences), np.array(test_labels)), verbose=2)\n",
    "\n",
    "print(\"Training Complete!\")"
   ]
  },
  {
   "cell_type": "markdown",
   "metadata": {},
   "source": [
    "### Plot Accuracy and Loss"
   ]
  },
  {
   "cell_type": "code",
   "execution_count": 24,
   "metadata": {},
   "outputs": [],
   "source": [
    "import matplotlib.image  as mpimg\n",
    "import matplotlib.pyplot as plt\n",
    "\n",
    "#-----------------------------------------------------------\n",
    "# Retrieve a list of list results on training and test data\n",
    "# sets for each training epoch\n",
    "#-----------------------------------------------------------\n",
    "acc=history.history['acc']\n",
    "val_acc=history.history['val_acc']\n",
    "loss=history.history['loss']\n",
    "val_loss=history.history['val_loss']\n",
    "\n",
    "epochs=range(len(acc)) # Get number of epochs"
   ]
  },
  {
   "cell_type": "code",
   "execution_count": 25,
   "metadata": {},
   "outputs": [
    {
     "data": {
      "text/plain": [
       "<matplotlib.figure.Figure at 0x7f11740597b8>"
      ]
     },
     "execution_count": 25,
     "metadata": {},
     "output_type": "execute_result"
    },
    {
     "data": {
      "image/png": "[encoded data removed]",
      "text/plain": [
       "<matplotlib.figure.Figure at 0x7f11efd473c8>"
      ]
     },
     "metadata": {
      "needs_background": "light"
     },
     "output_type": "display_data"
    },
    {
     "data": {
      "text/plain": [
       "<matplotlib.figure.Figure at 0x7f11740597b8>"
      ]
     },
     "metadata": {},
     "output_type": "display_data"
    }
   ],
   "source": [
    "#------------------------------------------------\n",
    "# Plot training and validation accuracy per epoch\n",
    "#------------------------------------------------\n",
    "plt.plot(epochs, acc, 'r')\n",
    "plt.plot(epochs, val_acc, 'b')\n",
    "plt.title('Training and validation accuracy')\n",
    "plt.xlabel(\"Epochs\")\n",
    "plt.ylabel(\"Accuracy\")\n",
    "plt.legend([\"Accuracy\", \"Validation Accuracy\"])\n",
    "\n",
    "plt.figure()"
   ]
  },
  {
   "cell_type": "code",
   "execution_count": 26,
   "metadata": {},
   "outputs": [
    {
     "data": {
      "text/plain": [
       "<matplotlib.figure.Figure at 0x7f11540bebe0>"
      ]
     },
     "execution_count": 26,
     "metadata": {},
     "output_type": "execute_result"
    },
    {
     "data": {
      "image/png": "[encoded data removed]",
      "text/plain": [
       "<matplotlib.figure.Figure at 0x7f1154173cc0>"
      ]
     },
     "metadata": {
      "needs_background": "light"
     },
     "output_type": "display_data"
    },
    {
     "data": {
      "text/plain": [
       "<matplotlib.figure.Figure at 0x7f11540bebe0>"
      ]
     },
     "metadata": {},
     "output_type": "display_data"
    }
   ],
   "source": [
    "#------------------------------------------------\n",
    "# Plot training and validation loss per epoch\n",
    "#------------------------------------------------\n",
    "plt.plot(epochs, loss, 'r')\n",
    "plt.plot(epochs, val_loss, 'b')\n",
    "plt.title('Training and validation loss')\n",
    "plt.xlabel(\"Epochs\")\n",
    "plt.ylabel(\"Loss\")\n",
    "plt.legend([\"Loss\", \"Validation Loss\"])\n",
    "\n",
    "plt.figure()"
   ]
  },
  {
   "cell_type": "markdown",
   "metadata": {},
   "source": [
    "### Save the Model"
   ]
  },
  {
   "cell_type": "code",
   "execution_count": 27,
   "metadata": {},
   "outputs": [],
   "source": [
    "import h5py\n",
    "model.save('saved_models/model_sentiment140.h5')"
   ]
  },
  {
   "cell_type": "code",
   "execution_count": 28,
   "metadata": {},
   "outputs": [
    {
     "name": "stdout",
     "output_type": "stream",
     "text": [
      "Model: \"sequential\"\n",
      "_________________________________________________________________\n",
      "Layer (type)                 Output Shape              Param #   \n",
      "=================================================================\n",
      "embedding (Embedding)        (None, 16, 100)           69096100  \n",
      "_________________________________________________________________\n",
      "conv1d (Conv1D)              (None, 9, 32)             25632     \n",
      "_________________________________________________________________\n",
      "max_pooling1d (MaxPooling1D) (None, 4, 32)             0         \n",
      "_________________________________________________________________\n",
      "dropout (Dropout)            (None, 4, 32)             0         \n",
      "_________________________________________________________________\n",
      "lstm (LSTM)                  (None, 32)                8320      \n",
      "_________________________________________________________________\n",
      "flatten (Flatten)            (None, 32)                0         \n",
      "_________________________________________________________________\n",
      "dense (Dense)                (None, 16)                528       \n",
      "_________________________________________________________________\n",
      "dropout_1 (Dropout)          (None, 16)                0         \n",
      "_________________________________________________________________\n",
      "dense_1 (Dense)              (None, 1)                 17        \n",
      "=================================================================\n",
      "Total params: 69,130,597\n",
      "Trainable params: 34,497\n",
      "Non-trainable params: 69,096,100\n",
      "_________________________________________________________________\n"
     ]
    }
   ],
   "source": [
    "# Recreate the exact same model, including its weights and the optimizer\n",
    "model_h5 = tf.keras.models.load_model('saved_models/model_sentiment140.h5')\n",
    "\n",
    "# Show the model architecture\n",
    "model_h5.summary()"
   ]
  },
  {
   "cell_type": "markdown",
   "metadata": {},
   "source": [
    "## Model Evaluation"
   ]
  },
  {
   "cell_type": "markdown",
   "metadata": {},
   "source": [
    "#### Overall Training and Test accuracies"
   ]
  },
  {
   "cell_type": "code",
   "execution_count": 29,
   "metadata": {},
   "outputs": [
    {
     "name": "stdout",
     "output_type": "stream",
     "text": [
      "Training Accuracy: 78.20% \n"
     ]
    }
   ],
   "source": [
    "loss, acc = model.evaluate(np.array(training_sequences), np.array(training_labels), verbose=0)\n",
    "print('Training Accuracy: %.2f%% ' % (acc*100))"
   ]
  },
  {
   "cell_type": "code",
   "execution_count": 30,
   "metadata": {},
   "outputs": [
    {
     "name": "stdout",
     "output_type": "stream",
     "text": [
      "Test Accuracy: 77.02% \n"
     ]
    }
   ],
   "source": [
    "loss, acc = model.evaluate(np.array(test_sequences), np.array(test_labels), verbose=0)\n",
    "print('Test Accuracy: %.2f%% ' % (acc*100))"
   ]
  },
  {
   "cell_type": "markdown",
   "metadata": {},
   "source": [
    "#### Sentiment Prediction Examples"
   ]
  },
  {
   "cell_type": "markdown",
   "metadata": {},
   "source": [
    "Before testing the model for example predictions, the input sentences need to be pre-processed and made ready for the model in the same format as the training data, i.e. tokenized and padded. To evaluate the predictive capability of the trained model, we do the following:\n",
    "\n",
    "Preprocess the records using the same Tokenizer as the training data\n",
    "\n",
    "Use the preprocessed data as the input vectors of the model, and compute the output vectors i.e. the prediction classes and the confidence.\n",
    "\n",
    "In this example, the confidence value is used to set a threshold for performing the classification. If the predicted probability is found to be less than 0.5, we classify the statement as \"negative\", and as \"positive\" if the value is found to be 0.5 or above. We later display that value in percentage, as the <i>confidence</i> value for our model prediction."
   ]
  },
  {
   "cell_type": "code",
   "execution_count": 31,
   "metadata": {},
   "outputs": [],
   "source": [
    "def text_prep(sent):\n",
    "    print(\"Input sentence : \" + sent)\n",
    "    sent = np.array([sent])\n",
    "    token_list = tokenizer.fit_on_texts(sent)\n",
    "    \n",
    "    sequences = tokenizer.texts_to_sequences(sent)\n",
    "    padded = pad_sequences(sequences, maxlen=max_length, padding=padding_type, truncating=trunc_type)\n",
    "    return padded"
   ]
  },
  {
   "cell_type": "code",
   "execution_count": 32,
   "metadata": {},
   "outputs": [],
   "source": [
    "def predict_sentiment(sent):\n",
    "    test_example = text_prep(sent)\n",
    "    pred_conf = model.predict(test_example)\n",
    "    pred_class = (model.predict(test_example) > 0.5).astype(\"int32\")\n",
    "    if pred_class[0][0]==0:\n",
    "        sentiment = 'Negative'\n",
    "        conf = 100 - (pred_conf[0][np.argmax(pred_conf)] * 100)\n",
    "    else:\n",
    "        sentiment = 'Positive'\n",
    "        conf = pred_conf[0][np.argmax(pred_conf)] * 100\n",
    "    print(\"%s sentiment; %.2f%% confidence\" % (sentiment, conf))"
   ]
  },
  {
   "cell_type": "code",
   "execution_count": 33,
   "metadata": {},
   "outputs": [
    {
     "name": "stdout",
     "output_type": "stream",
     "text": [
      "Input sentence : What a great and beautiful day\n",
      "Positive sentiment; 99.35% confidence\n"
     ]
    }
   ],
   "source": [
    "predict_sentiment(\"What a great and beautiful day\")"
   ]
  },
  {
   "cell_type": "code",
   "execution_count": 34,
   "metadata": {},
   "outputs": [
    {
     "name": "stdout",
     "output_type": "stream",
     "text": [
      "Input sentence : I'm having a terrible day!\n",
      "Negative sentiment; 98.91% confidence\n"
     ]
    }
   ],
   "source": [
    "predict_sentiment(\"I'm having a terrible day!\")"
   ]
  },
  {
   "cell_type": "code",
   "execution_count": 35,
   "metadata": {},
   "outputs": [
    {
     "name": "stdout",
     "output_type": "stream",
     "text": [
      "Input sentence : I'm having an awesome day\n",
      "Positive sentiment; 94.75% confidence\n"
     ]
    }
   ],
   "source": [
    "predict_sentiment(\"I'm having an awesome day\")"
   ]
  },
  {
   "cell_type": "code",
   "execution_count": 36,
   "metadata": {},
   "outputs": [
    {
     "name": "stdout",
     "output_type": "stream",
     "text": [
      "Input sentence : Ive had a long day!\n",
      "Negative sentiment; 57.38% confidence\n"
     ]
    }
   ],
   "source": [
    "predict_sentiment(\"Ive had a long day!\")"
   ]
  },
  {
   "cell_type": "code",
   "execution_count": 37,
   "metadata": {},
   "outputs": [
    {
     "name": "stdout",
     "output_type": "stream",
     "text": [
      "Input sentence : This is a bad example\n",
      "Negative sentiment; 90.50% confidence\n"
     ]
    }
   ],
   "source": [
    "predict_sentiment(\"This is a bad example\")"
   ]
  },
  {
   "cell_type": "code",
   "execution_count": 38,
   "metadata": {},
   "outputs": [
    {
     "name": "stdout",
     "output_type": "stream",
     "text": [
      "Input sentence : This is the worst ice-cream Ive had\n",
      "Negative sentiment; 88.17% confidence\n"
     ]
    }
   ],
   "source": [
    "predict_sentiment(\"This is the worst ice-cream Ive had\")"
   ]
  },
  {
   "cell_type": "code",
   "execution_count": 39,
   "metadata": {},
   "outputs": [
    {
     "name": "stdout",
     "output_type": "stream",
     "text": [
      "Input sentence : This government is a failure!\n",
      "Negative sentiment; 67.76% confidence\n"
     ]
    }
   ],
   "source": [
    "predict_sentiment(\"This government is a failure!\")"
   ]
  },
  {
   "cell_type": "code",
   "execution_count": 40,
   "metadata": {},
   "outputs": [
    {
     "name": "stdout",
     "output_type": "stream",
     "text": [
      "Input sentence : This government is a bad failure!\n",
      "Negative sentiment; 93.42% confidence\n"
     ]
    }
   ],
   "source": [
    "predict_sentiment(\"This government is a bad failure!\")"
   ]
  },
  {
   "cell_type": "code",
   "execution_count": 41,
   "metadata": {},
   "outputs": [
    {
     "name": "stdout",
     "output_type": "stream",
     "text": [
      "Input sentence : They lost the elections!\n",
      "Negative sentiment; 95.42% confidence\n"
     ]
    }
   ],
   "source": [
    "predict_sentiment(\"They lost the elections!\")"
   ]
  },
  {
   "cell_type": "code",
   "execution_count": 42,
   "metadata": {},
   "outputs": [
    {
     "name": "stdout",
     "output_type": "stream",
     "text": [
      "Input sentence : They won the elections!\n",
      "Positive sentiment; 70.73% confidence\n"
     ]
    }
   ],
   "source": [
    "predict_sentiment(\"They won the elections!\")"
   ]
  },
  {
   "cell_type": "code",
   "execution_count": 43,
   "metadata": {},
   "outputs": [
    {
     "name": "stdout",
     "output_type": "stream",
     "text": [
      "Input sentence : It's a bittersweet experience!\n",
      "Positive sentiment; 79.44% confidence\n"
     ]
    }
   ],
   "source": [
    "predict_sentiment(\"It's a bittersweet experience!\")"
   ]
  },
  {
   "cell_type": "code",
   "execution_count": 44,
   "metadata": {},
   "outputs": [
    {
     "name": "stdout",
     "output_type": "stream",
     "text": [
      "Input sentence : I wish this gets over soon!\n",
      "Negative sentiment; 92.81% confidence\n"
     ]
    }
   ],
   "source": [
    "predict_sentiment(\"I wish this gets over soon!\")"
   ]
  }
 ],
 "metadata": {
  "kernelspec": {
   "display_name": "Python 3",
   "language": "python",
   "name": "python3"
  },
  "language_info": {
   "codemirror_mode": {
    "name": "ipython",
    "version": 3
   },
   "file_extension": ".py",
   "mimetype": "text/x-python",
   "name": "python",
   "nbconvert_exporter": "python",
   "pygments_lexer": "ipython3",
   "version": "3.6.9"
  }
 },
 "nbformat": 4,
 "nbformat_minor": 2
}
